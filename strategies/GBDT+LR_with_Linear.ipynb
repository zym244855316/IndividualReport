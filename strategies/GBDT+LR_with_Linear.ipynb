{
 "cells": [
  {
   "cell_type": "code",
   "execution_count": 1,
   "metadata": {
    "collapsed": true
   },
   "outputs": [],
   "source": [
    "%matplotlib inline\n",
    "import numpy as np\n",
    "import pandas as pd\n",
    "import matplotlib.pyplot as plt\n",
    "\n",
    "from sklearn.preprocessing import LabelEncoder\n",
    "from sklearn.preprocessing import OneHotEncoder \n",
    "from sklearn.linear_model import LogisticRegression\n",
    "from sklearn.feature_extraction import DictVectorizer \n",
    "from sklearn.ensemble import GradientBoostingClassifier \n",
    "from sklearn.model_selection import train_test_split\n",
    "from sklearn import metrics\n",
    "from sklearn.metrics import roc_curve, auc, mean_squared_error #roc_auc_score as AUC\n",
    "from sklearn.externals import joblib\n",
    "\n",
    "import pickle\n",
    "import time\n",
    "import os.path\n",
    "import math\n"
   ]
  },
  {
   "cell_type": "markdown",
   "metadata": {},
   "source": [
    "# Load Data"
   ]
  },
  {
   "cell_type": "code",
   "execution_count": 2,
   "metadata": {
    "collapsed": true
   },
   "outputs": [],
   "source": [
    "n_bytes = 2**31\n",
    "max_bytes = 2**31 - 1\n",
    "\n",
    "def load_pickle(file_path):\n",
    "    \n",
    "    bytes_in = bytearray(0)\n",
    "    input_size = os.path.getsize(file_path)\n",
    "    with open(file_path, 'rb') as f_in:\n",
    "        for _ in range(0, input_size, max_bytes):\n",
    "            bytes_in += f_in.read(max_bytes)\n",
    "    \n",
    "    return pickle.loads(bytes_in)"
   ]
  },
  {
   "cell_type": "code",
   "execution_count": 3,
   "metadata": {
    "collapsed": true
   },
   "outputs": [],
   "source": [
    "train = load_pickle('train_df_after_preprocessing.pkl') # balanced class\n",
    "valid = load_pickle('valid_df_after_preprocessing.pkl')\n",
    "test = load_pickle('test_df_after_preprocessing.pkl')\n",
    "\n",
    "#train_click = train['click']\n",
    "train_click = train['click']\n",
    "train_bidprice = train['bidprice']\n",
    "train_payprice = train['payprice']\n",
    "#train_X = train.drop(['click', 'bidprice', 'payprice'], axis = 1)\n",
    "train_X = train.drop(['click', 'bidprice', 'payprice'], axis = 1)\n",
    "\n",
    "valid_click = valid['click']\n",
    "valid_bidprice = valid['bidprice']\n",
    "valid_payprice = valid['payprice']\n",
    "valid_X = valid.drop(['click', 'bidprice', 'payprice'], axis = 1)"
   ]
  },
  {
   "cell_type": "markdown",
   "metadata": {},
   "source": [
    "# GBDT+LR"
   ]
  },
  {
   "cell_type": "code",
   "execution_count": 18,
   "metadata": {},
   "outputs": [
    {
     "name": "stdout",
     "output_type": "stream",
     "text": [
      "predict 0.815748967199\n",
      "predict 0.834330670449\n",
      "AUC Score : 0.834330670449\n"
     ]
    },
    {
     "data": {
      "text/plain": [
       "array([ 0.99792132,  0.68147177,  0.89975166, ...,  0.08494489,\n",
       "        0.43784815,  0.43810584])"
      ]
     },
     "execution_count": 18,
     "metadata": {},
     "output_type": "execute_result"
    }
   ],
   "source": [
    "from sklearn import metrics\n",
    "# 导入数据  \n",
    "# X = train.drop(['click','payprice','bidprice'], axis = 1) \n",
    "# y = train['click']\n",
    "  \n",
    "# 切分为测试集和训练集，比例0.5  \n",
    "X_train, X_test, y_train, y_test = train_test_split(train_X, train_click, test_size=0.5)  \n",
    "# 将训练集切分为两部分，一部分用于训练GBDT模型，另一部分输入到训练好的GBDT模型生成GBDT特征，然后作为LR的特征。这样分成两部分是为了防止过拟合。  \n",
    "X_train, X_train_lr, y_train, y_train_lr = train_test_split(X_train, y_train, test_size=0.5)  \n",
    "  \n",
    "# 弱分类器的数目  \n",
    "n_estimator = 60\n",
    "# 调用GBDT分类模型  \n",
    "grd = GradientBoostingClassifier(n_estimators=n_estimator)  \n",
    "  \n",
    "# 调用one-hot编码。  \n",
    "grd_enc = OneHotEncoder()  \n",
    "  \n",
    "# 调用LR分类模型。  \n",
    "grd_lm = LogisticRegression()  \n",
    "  \n",
    "#使用X_train训练GBDT模型，后面用此模型构造特征  \n",
    "grd.fit(X_train, y_train)  \n",
    "  \n",
    "#直接进行预测，查看AUC得分  \n",
    "y_pred_grd = grd.predict_proba(X_test)[:, 1]  \n",
    "fpr_grd, tpr_grd, _ = metrics.roc_curve(y_test, y_pred_grd)  \n",
    "roc_auc = metrics.auc(fpr_grd, tpr_grd)  \n",
    "print('predict',roc_auc)  \n",
    "  \n",
    "# fit one-hot编码器  \n",
    "grd_enc.fit(grd.apply(X_train)[:, :, 0])  \n",
    "  \n",
    "#使用训练好的GBDT模型构建特征，然后将特征经过one-hot编码作为新的特征输入到LR模型训练。  \n",
    "grd_lm.fit(grd_enc.transform(grd.apply(X_train_lr)[:, :, 0]), y_train_lr)  \n",
    "  \n",
    "# 用训练好的LR模型多X_test做预测  \n",
    "y_pred_grd_lm = grd_lm.predict_proba(grd_enc.transform(grd.apply(X_test)[:, :, 0]))[:, 1]  \n",
    "  \n",
    "# 根据预测结果输出  \n",
    "fpr_grd_lm, tpr_grd_lm, _ = metrics.roc_curve(y_test, y_pred_grd_lm)  \n",
    "roc_auc = metrics.auc(fpr_grd_lm, tpr_grd_lm)  \n",
    "print('predict',roc_auc)\n",
    "  \n",
    "print(\"AUC Score :\",(metrics.roc_auc_score(y_test, y_pred_grd_lm)))    \n",
    "\n",
    "y_pred_grd_lm"
   ]
  },
  {
   "cell_type": "code",
   "execution_count": 19,
   "metadata": {},
   "outputs": [
    {
     "data": {
      "image/png": "[encoded data removed]",
      "text/plain": [
       "<matplotlib.figure.Figure at 0x115dcf390>"
      ]
     },
     "metadata": {},
     "output_type": "display_data"
    }
   ],
   "source": [
    "with plt.style.context(('ggplot')):\n",
    "    fig, ax = plt.subplots()\n",
    "    ax.plot(fpr_grd_lm, tpr_grd_lm, \"#000099\", label='GBDT+LR:'+str(roc_auc))\n",
    "    ax.plot([0, 1], [0, 1], 'k--', label='Baseline')\n",
    "    plt.xlim([0.0, 1.0])\n",
    "    plt.ylim([0.0, 1.05])\n",
    "    plt.xlabel('False Positive Rate')\n",
    "    plt.ylabel('True Positive Rate')\n",
    "    plt.legend(loc='lower right')\n",
    "    plt.title('ROC Curve, AUC = '+str(roc_auc))"
   ]
  },
  {
   "cell_type": "code",
   "execution_count": 6,
   "metadata": {},
   "outputs": [
    {
     "data": {
      "text/plain": [
       "['GBDT+LR.pickle.dat']"
      ]
     },
     "execution_count": 6,
     "metadata": {},
     "output_type": "execute_result"
    }
   ],
   "source": [
    "joblib.dump(grd_lm, 'GBDT+LR' + \".pickle.dat\" )"
   ]
  },
  {
   "cell_type": "code",
   "execution_count": 7,
   "metadata": {
    "collapsed": true
   },
   "outputs": [],
   "source": [
    "model = joblib.load(\"GBDT+LR.pickle.dat\")\n",
    "valid_ctr_prediction=model.predict_proba(grd_enc.transform(grd.apply(valid_X)[:, :, 0]))[:, 1]  "
   ]
  },
  {
   "cell_type": "markdown",
   "metadata": {
    "collapsed": true
   },
   "source": [
    "# Linear Bidding"
   ]
  },
  {
   "cell_type": "code",
   "execution_count": 8,
   "metadata": {
    "collapsed": true
   },
   "outputs": [],
   "source": [
    "def EvaluateClick( bid_price, budget, valid_payprice, valid_click):\n",
    "    \n",
    "    auction = bid_price >= valid_payprice\n",
    "    win_bid_ix = [ index for index,auc in enumerate(auction) if auc ]\n",
    "    bid_spends = valid_payprice[win_bid_ix].values\n",
    "    bid_clicks = valid_click[win_bid_ix].values\n",
    "\n",
    "    budget = 6250000\n",
    "    current_spend = sum(bid_spends)\n",
    "\n",
    "    total_bids = len(bid_spends)\n",
    "\n",
    "    for i in range(len(bid_spends)):\n",
    "\n",
    "        current_spend -= bid_spends[total_bids-i-1]\n",
    "\n",
    "        if current_spend <= budget:\n",
    "            break\n",
    "\n",
    "    final_win_bid_ix = win_bid_ix[:(total_bids - i -1)]\n",
    "    bid_spends = sum(valid_payprice[final_win_bid_ix].values)\n",
    "    bid_clicks = sum(valid_click[final_win_bid_ix].values)\n",
    "    \n",
    "    print('clicks:', bid_clicks, 'impressions:', len(final_win_bid_ix), 'spend:', bid_spends)\n",
    "\n",
    "    return bid_clicks"
   ]
  },
  {
   "cell_type": "code",
   "execution_count": 9,
   "metadata": {},
   "outputs": [
    {
     "name": "stdout",
     "output_type": "stream",
     "text": [
      "clicks: 124 impressions: 113890 spend: 4238412\n",
      "clicks: 128 impressions: 115573 spend: 4353705\n",
      "clicks: 129 impressions: 117022 spend: 4449767\n",
      "clicks: 129 impressions: 118561 spend: 4554418\n",
      "clicks: 131 impressions: 120213 spend: 4661402\n",
      "clicks: 132 impressions: 122248 spend: 4801753\n",
      "clicks: 132 impressions: 123616 spend: 4894208\n",
      "clicks: 132 impressions: 125423 spend: 5024289\n",
      "clicks: 132 impressions: 127009 spend: 5137885\n",
      "clicks: 135 impressions: 128572 spend: 5247685\n",
      "clicks: 138 impressions: 130047 spend: 5352196\n",
      "clicks: 140 impressions: 131496 spend: 5455551\n",
      "clicks: 143 impressions: 133026 spend: 5565766\n",
      "clicks: 143 impressions: 134514 spend: 5677232\n",
      "clicks: 146 impressions: 136109 spend: 5800321\n",
      "clicks: 146 impressions: 137480 spend: 5905947\n",
      "clicks: 147 impressions: 139107 spend: 6029176\n",
      "clicks: 147 impressions: 140695 spend: 6152755\n",
      "clicks: 146 impressions: 141702 spend: 6249998\n",
      "clicks: 145 impressions: 140865 spend: 6249959\n",
      "clicks: 143 impressions: 139781 spend: 6249974\n",
      "clicks: 137 impressions: 138833 spend: 6249980\n",
      "clicks: 136 impressions: 137936 spend: 6249960\n",
      "clicks: 133 impressions: 136934 spend: 6249994\n",
      "clicks: 133 impressions: 135973 spend: 6249962\n",
      "clicks: 131 impressions: 135220 spend: 6249911\n",
      "clicks: 131 impressions: 134225 spend: 6249973\n",
      "clicks: 131 impressions: 133310 spend: 6249936\n",
      "clicks: 131 impressions: 132565 spend: 6249930\n",
      "clicks: 130 impressions: 131727 spend: 6249998\n",
      "best constant: 152\n"
     ]
    },
    {
     "data": {
      "image/png": "[encoded data removed]",
      "text/plain": [
       "<matplotlib.figure.Figure at 0x10f41d240>"
      ]
     },
     "metadata": {},
     "output_type": "display_data"
    }
   ],
   "source": [
    "# search the best base_price\n",
    "base_prices = np.arange(120,180,2)\n",
    "clicks = []\n",
    "budget = 6250000\n",
    "avgCTR=0.738\n",
    "\n",
    "for base in base_prices:\n",
    "    \n",
    "    valid_pctr = valid_ctr_prediction\n",
    "    bid_price = [ int(base*pCTR/avgCTR) for pCTR in valid_pctr ]\n",
    "    c = EvaluateClick( bid_price, budget, valid_payprice, valid_click);\n",
    "    clicks.append(c)\n",
    "\n",
    "    \n",
    "plt.figure()\n",
    "plt.plot(base_prices, clicks)\n",
    "print('best constant:', base_prices[clicks.index(max(clicks))])"
   ]
  },
  {
   "cell_type": "code",
   "execution_count": 20,
   "metadata": {},
   "outputs": [
    {
     "name": "stdout",
     "output_type": "stream",
     "text": [
      "clicks: 147 impressions: 139107 spend: 6029176\n"
     ]
    },
    {
     "data": {
      "text/plain": [
       "147"
      ]
     },
     "execution_count": 20,
     "metadata": {},
     "output_type": "execute_result"
    }
   ],
   "source": [
    "base = base_prices[clicks.index(max(clicks))]\n",
    "\n",
    "bid_price = [ int(base*pCTR/avgCTR) for pCTR in valid_pctr ]\n",
    "EvaluateClick( bid_price, budget , valid_payprice, valid_click)"
   ]
  },
  {
   "cell_type": "code",
   "execution_count": 11,
   "metadata": {
    "collapsed": true
   },
   "outputs": [],
   "source": [
    "### prediction\n",
    "base = base_prices[clicks.index(max(clicks))]\n",
    "\n",
    "test_prediction = model.predict_proba(grd_enc.transform(grd.apply(test)[:, :, 0]))[:, 1]  \n",
    "bid_price = [ int(base*pCTR/avgCTR) for pCTR in test_prediction ]\n",
    "\n",
    "submission = pd.read_csv('Group_xx.csv')\n",
    "submission['bidprice'] = bid_price\n",
    "submission.to_csv('GBDT+LR_with_Linear.csv')"
   ]
  }
 ],
 "metadata": {
  "kernelspec": {
   "display_name": "Python 3",
   "language": "python",
   "name": "python3"
  },
  "language_info": {
   "codemirror_mode": {
    "name": "ipython",
    "version": 3
   },
   "file_extension": ".py",
   "mimetype": "text/x-python",
   "name": "python",
   "nbconvert_exporter": "python",
   "pygments_lexer": "ipython3",
   "version": "3.6.2"
  }
 },
 "nbformat": 4,
 "nbformat_minor": 2
}
