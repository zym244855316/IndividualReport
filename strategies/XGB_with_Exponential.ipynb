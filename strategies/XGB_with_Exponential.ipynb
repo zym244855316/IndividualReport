{
 "cells": [
  {
   "cell_type": "code",
   "execution_count": 1,
   "metadata": {
    "collapsed": true
   },
   "outputs": [],
   "source": [
    "%matplotlib inline\n",
    "import matplotlib.pyplot as plt\n",
    "import numpy as np\n",
    "import pickle\n",
    "import time\n",
    "import os.path\n",
    "import math\n",
    "from xgboost import XGBClassifier\n",
    "from sklearn.externals import joblib\n",
    "import pandas as pd\n",
    "\n",
    "n_bytes = 2**31\n",
    "max_bytes = 2**31 - 1\n",
    "\n",
    "class Time_Tracking():\n",
    "    \n",
    "    start_time = None\n",
    "    \n",
    "    def start_tracking(self):\n",
    "        \n",
    "        self.start_time = time.time()\n",
    "    \n",
    "    def stop_tracking(self):\n",
    "        \n",
    "        print(\"Time used:\", round(((time.time() - self.start_time)/60),2), ' minutes')\n",
    "\n",
    "\n",
    "def load_pickle(file_path):\n",
    "    \n",
    "    bytes_in = bytearray(0)\n",
    "    input_size = os.path.getsize(file_path)\n",
    "    with open(file_path, 'rb') as f_in:\n",
    "        for _ in range(0, input_size, max_bytes):\n",
    "            bytes_in += f_in.read(max_bytes)\n",
    "    \n",
    "    return pickle.loads(bytes_in)"
   ]
  },
  {
   "cell_type": "code",
   "execution_count": 2,
   "metadata": {
    "collapsed": true
   },
   "outputs": [],
   "source": [
    "model = joblib.load(\"xgb.pickle.dat\")\n",
    "\n",
    "train = load_pickle('train_df_after_preprocessing.pkl')\n",
    "valid = load_pickle('valid_df_after_preprocessing.pkl')\n",
    "test = load_pickle('test_df_after_preprocessing.pkl')\n",
    "\n",
    "valid_click = valid['click']\n",
    "valid_bidprice = valid['bidprice']\n",
    "valid_payprice = valid['payprice']\n",
    "valid_X = valid.drop(['click', 'bidprice', 'payprice'], axis = 1)"
   ]
  },
  {
   "cell_type": "code",
   "execution_count": 3,
   "metadata": {
    "collapsed": true
   },
   "outputs": [],
   "source": [
    "valid_ctr_prediction = model.predict_proba(valid_X)"
   ]
  },
  {
   "cell_type": "markdown",
   "metadata": {},
   "source": [
    "# Exponential Bidding: bid_price = base_bid * e^(pCTR / avgCTR)"
   ]
  },
  {
   "cell_type": "code",
   "execution_count": 4,
   "metadata": {
    "collapsed": true
   },
   "outputs": [],
   "source": [
    "def EvaluateClick( bid_price, budget, valid_payprice, valid_click):\n",
    "    \n",
    "    auction = bid_price >= valid_payprice\n",
    "    win_bid_ix = [ index for index,auc in enumerate(auction) if auc ]\n",
    "    bid_spends = valid_payprice[win_bid_ix].values\n",
    "    bid_clicks = valid_click[win_bid_ix].values\n",
    "\n",
    "    budget = 6250000\n",
    "    current_spend = sum(bid_spends)\n",
    "\n",
    "    total_bids = len(bid_spends)\n",
    "\n",
    "    for i in range(len(bid_spends)):\n",
    "\n",
    "        current_spend -= bid_spends[total_bids-i-1]\n",
    "\n",
    "        if current_spend <= budget:\n",
    "            break\n",
    "\n",
    "    final_win_bid_ix = win_bid_ix[:(total_bids - i -1)]\n",
    "    bid_spends = sum(valid_payprice[final_win_bid_ix].values)\n",
    "    bid_clicks = sum(valid_click[final_win_bid_ix].values)\n",
    "    \n",
    "    print('clicks:', bid_clicks, 'impressions:', len(final_win_bid_ix), 'spend:', bid_spends)\n",
    "\n",
    "    return bid_clicks"
   ]
  },
  {
   "cell_type": "code",
   "execution_count": 12,
   "metadata": {},
   "outputs": [
    {
     "name": "stdout",
     "output_type": "stream",
     "text": [
      "clicks: 133 impressions: 152162 spend: 5746988\n",
      "clicks: 137 impressions: 155698 spend: 5979978\n",
      "clicks: 138 impressions: 159376 spend: 6224014\n",
      "clicks: 130 impressions: 157583 spend: 6250000\n",
      "clicks: 120 impressions: 155055 spend: 6249962\n",
      "best constant: 45\n"
     ]
    },
    {
     "data": {
      "image/png": "[encoded data removed]",
      "text/plain": [
       "<matplotlib.figure.Figure at 0x1a43d8a128>"
      ]
     },
     "metadata": {},
     "output_type": "display_data"
    }
   ],
   "source": [
    "# search the best base_price\n",
    "base_prices = np.arange(43,48,1)\n",
    "clicks = []\n",
    "budget = 6250000\n",
    "avgCTR=0.738\n",
    "\n",
    "for base in base_prices:\n",
    "    \n",
    "    valid_pctr = valid_ctr_prediction[:,1]\n",
    "    bid_price = [ int(base * np.exp(pCTR/avgCTR)) for pCTR in valid_pctr ]\n",
    "    c = EvaluateClick( bid_price, budget, valid_payprice, valid_click);\n",
    "    clicks.append(c)\n",
    "\n",
    "    \n",
    "plt.figure()\n",
    "plt.ylabel('Clicks')\n",
    "plt.xlabel('Base Price')\n",
    "plt.plot(base_prices, clicks)\n",
    "#plt.savefig(\"exp.png\")\n",
    "print('best constant:', base_prices[clicks.index(max(clicks))])"
   ]
  },
  {
   "cell_type": "code",
   "execution_count": 6,
   "metadata": {},
   "outputs": [
    {
     "name": "stdout",
     "output_type": "stream",
     "text": [
      "clicks: 138 impressions: 159376 spend: 6224014\n"
     ]
    },
    {
     "data": {
      "text/plain": [
       "138"
      ]
     },
     "execution_count": 6,
     "metadata": {},
     "output_type": "execute_result"
    }
   ],
   "source": [
    "base = base_prices[clicks.index(max(clicks))]\n",
    "\n",
    "bid_price = [ int(base * np.exp(pCTR/avgCTR)) for pCTR in valid_pctr ]\n",
    "EvaluateClick( bid_price, budget , valid_payprice, valid_click)"
   ]
  },
  {
   "cell_type": "code",
   "execution_count": 7,
   "metadata": {
    "collapsed": true
   },
   "outputs": [],
   "source": [
    "### prediction\n",
    "base = base_prices[clicks.index(max(clicks))]\n",
    "\n",
    "test_prediction = model.predict_proba(test)[:,1]\n",
    "bid_price = [ int(base * np.exp(pCTR/avgCTR)) for pCTR in test_prediction ]\n",
    "\n",
    "submission = pd.read_csv('Group_xx.csv')\n",
    "submission['bidprice'] = bid_price\n",
    "submission.to_csv('XGB_with_Exponential.csv')"
   ]
  }
 ],
 "metadata": {
  "kernelspec": {
   "display_name": "Python 3",
   "language": "python",
   "name": "python3"
  },
  "language_info": {
   "codemirror_mode": {
    "name": "ipython",
    "version": 3
   },
   "file_extension": ".py",
   "mimetype": "text/x-python",
   "name": "python",
   "nbconvert_exporter": "python",
   "pygments_lexer": "ipython3",
   "version": "3.6.2"
  }
 },
 "nbformat": 4,
 "nbformat_minor": 2
}
