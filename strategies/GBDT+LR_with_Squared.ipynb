{
 "cells": [
  {
   "cell_type": "code",
   "execution_count": 1,
   "metadata": {
    "collapsed": true
   },
   "outputs": [],
   "source": [
    "%matplotlib inline\n",
    "import numpy as np\n",
    "import pandas as pd\n",
    "import matplotlib.pyplot as plt\n",
    "\n",
    "from sklearn.preprocessing import LabelEncoder\n",
    "from sklearn.preprocessing import OneHotEncoder \n",
    "from sklearn.linear_model import LogisticRegression\n",
    "from sklearn.feature_extraction import DictVectorizer \n",
    "from sklearn.ensemble import GradientBoostingClassifier \n",
    "from sklearn.model_selection import train_test_split\n",
    "from sklearn import metrics\n",
    "from sklearn.metrics import roc_curve, auc, mean_squared_error #roc_auc_score as AUC\n",
    "from sklearn.externals import joblib\n",
    "\n",
    "import pickle\n",
    "import time\n",
    "import os.path\n",
    "import math\n"
   ]
  },
  {
   "cell_type": "markdown",
   "metadata": {},
   "source": [
    "# Load data"
   ]
  },
  {
   "cell_type": "code",
   "execution_count": 2,
   "metadata": {
    "collapsed": true
   },
   "outputs": [],
   "source": [
    "n_bytes = 2**31\n",
    "max_bytes = 2**31 - 1\n",
    "\n",
    "def load_pickle(file_path):\n",
    "    \n",
    "    bytes_in = bytearray(0)\n",
    "    input_size = os.path.getsize(file_path)\n",
    "    with open(file_path, 'rb') as f_in:\n",
    "        for _ in range(0, input_size, max_bytes):\n",
    "            bytes_in += f_in.read(max_bytes)\n",
    "    \n",
    "    return pickle.loads(bytes_in)"
   ]
  },
  {
   "cell_type": "code",
   "execution_count": 3,
   "metadata": {
    "collapsed": true
   },
   "outputs": [],
   "source": [
    "train = load_pickle('train_df_after_preprocessing.pkl') # balanced class\n",
    "valid = load_pickle('valid_df_after_preprocessing.pkl')\n",
    "test = load_pickle('test_df_after_preprocessing.pkl')\n",
    "\n",
    "#train_click = train['click']\n",
    "train_click = train['click']\n",
    "train_bidprice = train['bidprice']\n",
    "train_payprice = train['payprice']\n",
    "#train_X = train.drop(['click', 'bidprice', 'payprice'], axis = 1)\n",
    "train_X = train.drop(['click', 'bidprice', 'payprice'], axis = 1)\n",
    "\n",
    "valid_click = valid['click']\n",
    "valid_bidprice = valid['bidprice']\n",
    "valid_payprice = valid['payprice']\n",
    "valid_X = valid.drop(['click', 'bidprice', 'payprice'], axis = 1)"
   ]
  },
  {
   "cell_type": "markdown",
   "metadata": {},
   "source": [
    "# GBDT+LR"
   ]
  },
  {
   "cell_type": "code",
   "execution_count": 88,
   "metadata": {},
   "outputs": [
    {
     "name": "stdout",
     "output_type": "stream",
     "text": [
      "predict 0.816159291418\n",
      "predict 0.839437030174\n",
      "AUC Score : 0.839437030174\n"
     ]
    },
    {
     "data": {
      "text/plain": [
       "array([ 0.46582816,  0.26644777,  0.38533551, ...,  0.09365811,\n",
       "        0.9187488 ,  0.35221956])"
      ]
     },
     "execution_count": 88,
     "metadata": {},
     "output_type": "execute_result"
    }
   ],
   "source": [
    "from sklearn import metrics\n",
    "# 导入数据  \n",
    "# X = train.drop(['click','payprice','bidprice'], axis = 1) \n",
    "# y = train['click']\n",
    "  \n",
    "# 切分为测试集和训练集，比例0.5  \n",
    "X_train, X_test, y_train, y_test = train_test_split(train_X, train_click, test_size=0.5)  \n",
    "# 将训练集切分为两部分，一部分用于训练GBDT模型，另一部分输入到训练好的GBDT模型生成GBDT特征，然后作为LR的特征。这样分成两部分是为了防止过拟合。  \n",
    "X_train, X_train_lr, y_train, y_train_lr = train_test_split(X_train, y_train, test_size=0.5)  \n",
    "  \n",
    "# 弱分类器的数目  \n",
    "n_estimator = 60\n",
    "# 调用GBDT分类模型  \n",
    "grd = GradientBoostingClassifier(n_estimators=n_estimator)  \n",
    "# 默认参数\n",
    "# GradientBoostingClassifier(loss='deviance', learning_rate=0.1,\n",
    "#                            subsample=1.0, criterion='friedman_mse', \n",
    "#                            min_samples_split=2, min_samples_leaf=1, \n",
    "#                            min_weight_fraction_leaf=0.0, max_depth=3, \n",
    "#                            min_impurity_decrease=0.0, min_impurity_split=None, \n",
    "#                            init=None, random_state=None, max_features=None, \n",
    "#                            verbose=0, max_leaf_nodes=None, warm_start=False, \n",
    "#                            presort='auto',n_estimators=100)\n",
    "  \n",
    "# 调用one-hot编码。  \n",
    "grd_enc = OneHotEncoder()  \n",
    "  \n",
    "# 调用LR分类模型。  \n",
    "grd_lm = LogisticRegression(penalty='l2', dual=False, tol=0.0004, \n",
    "                            C=1.0,fit_intercept=True, intercept_scaling=1, \n",
    "                            class_weight=None, random_state=None,\n",
    "                            solver='liblinear', max_iter=85, \n",
    "                            multi_class='ovr', verbose=0,\n",
    "                            warm_start=False, n_jobs=1)  \n",
    "# 默认参数\n",
    "# LogisticRegression(penalty=’l2’, dual=False, tol=0.0001, \n",
    "#                    C=1.0, fit_intercept=True, intercept_scaling=1, \n",
    "#                    class_weight=None, random_state=None, \n",
    "#                    solver=’liblinear’, max_iter=100, \n",
    "#                    multi_class=’ovr’, verbose=0, \n",
    "#                    warm_start=False, n_jobs=1)\n",
    "  \n",
    "#使用X_train训练GBDT模型，后面用此模型构造特征  \n",
    "grd.fit(X_train, y_train)  \n",
    "  \n",
    "#直接进行预测，查看AUC得分  \n",
    "y_pred_grd = grd.predict_proba(X_test)[:, 1]  \n",
    "fpr_grd, tpr_grd, _ = metrics.roc_curve(y_test, y_pred_grd)  \n",
    "roc_auc = metrics.auc(fpr_grd, tpr_grd)  \n",
    "print('predict',roc_auc)  \n",
    "  \n",
    "# fit one-hot编码器  \n",
    "grd_enc.fit(grd.apply(X_train)[:, :, 0])  \n",
    "  \n",
    "#使用训练好的GBDT模型构建特征，然后将特征经过one-hot编码作为新的特征输入到LR模型训练。  \n",
    "grd_lm.fit(grd_enc.transform(grd.apply(X_train_lr)[:, :, 0]), y_train_lr)  \n",
    "  \n",
    "# 用训练好的LR模型多X_test做预测  \n",
    "y_pred_grd_lm = grd_lm.predict_proba(grd_enc.transform(grd.apply(X_test)[:, :, 0]))[:, 1]  \n",
    "  \n",
    "# 根据预测结果输出  \n",
    "fpr_grd_lm, tpr_grd_lm, _ = metrics.roc_curve(y_test, y_pred_grd_lm)  \n",
    "roc_auc = metrics.auc(fpr_grd_lm, tpr_grd_lm)  \n",
    "print('predict',roc_auc)\n",
    "  \n",
    "print(\"AUC Score :\",(metrics.roc_auc_score(y_test, y_pred_grd_lm)))    \n",
    "\n",
    "y_pred_grd_lm"
   ]
  },
  {
   "cell_type": "code",
   "execution_count": 89,
   "metadata": {},
   "outputs": [
    {
     "data": {
      "image/png": "[encoded data removed]",
      "text/plain": [
       "<matplotlib.figure.Figure at 0x1a36641908>"
      ]
     },
     "metadata": {},
     "output_type": "display_data"
    }
   ],
   "source": [
    "with plt.style.context(('ggplot')):\n",
    "    fig, ax = plt.subplots()\n",
    "    ax.plot(fpr_grd_lm, tpr_grd_lm, \"#000099\", label='GBDT+LR:'+str(roc_auc))\n",
    "    ax.plot([0, 1], [0, 1], 'k--', label='Baseline')\n",
    "    plt.xlim([0.0, 1.0])\n",
    "    plt.ylim([0.0, 1.05])\n",
    "    plt.xlabel('False Positive Rate')\n",
    "    plt.ylabel('True Positive Rate')\n",
    "    plt.legend(loc='lower right')\n",
    "    plt.title('ROC Curve, AUC = '+str(roc_auc))"
   ]
  },
  {
   "cell_type": "code",
   "execution_count": 90,
   "metadata": {},
   "outputs": [
    {
     "data": {
      "text/plain": [
       "['GBDT+LR.pickle.dat']"
      ]
     },
     "execution_count": 90,
     "metadata": {},
     "output_type": "execute_result"
    }
   ],
   "source": [
    "joblib.dump(grd_lm, 'GBDT+LR' + \".pickle.dat\" )"
   ]
  },
  {
   "cell_type": "code",
   "execution_count": 91,
   "metadata": {
    "collapsed": true
   },
   "outputs": [],
   "source": [
    "model = joblib.load(\"GBDT+LR.pickle.dat\")\n",
    "valid_ctr_prediction=model.predict_proba(grd_enc.transform(grd.apply(valid_X)[:, :, 0]))[:, 1]  "
   ]
  },
  {
   "cell_type": "markdown",
   "metadata": {},
   "source": [
    "# Squared Bidding: bid_price = base_bid * (pCTR / avgCTR) ^ 2"
   ]
  },
  {
   "cell_type": "code",
   "execution_count": 92,
   "metadata": {
    "collapsed": true
   },
   "outputs": [],
   "source": [
    "def EvaluateClick( bid_price, budget, valid_payprice, valid_click):\n",
    "    \n",
    "    auction = bid_price >= valid_payprice\n",
    "    win_bid_ix = [ index for index,auc in enumerate(auction) if auc ]\n",
    "    bid_spends = valid_payprice[win_bid_ix].values\n",
    "    bid_clicks = valid_click[win_bid_ix].values\n",
    "\n",
    "    budget = 6250000\n",
    "    current_spend = sum(bid_spends)\n",
    "\n",
    "    total_bids = len(bid_spends)\n",
    "\n",
    "    for i in range(len(bid_spends)):\n",
    "\n",
    "        current_spend -= bid_spends[total_bids-i-1]\n",
    "\n",
    "        if current_spend <= budget:\n",
    "            break\n",
    "\n",
    "    final_win_bid_ix = win_bid_ix[:(total_bids - i -1)]\n",
    "    bid_spends = sum(valid_payprice[final_win_bid_ix].values)\n",
    "    bid_clicks = sum(valid_click[final_win_bid_ix].values)\n",
    "    \n",
    "    print('clicks:', bid_clicks, 'impressions:', len(final_win_bid_ix), 'spend:', bid_spends)\n",
    "\n",
    "    return bid_clicks\n"
   ]
  },
  {
   "cell_type": "code",
   "execution_count": 93,
   "metadata": {},
   "outputs": [
    {
     "name": "stdout",
     "output_type": "stream",
     "text": [
      "clicks: 159 impressions: 97199 spend: 5372581\n",
      "clicks: 160 impressions: 97818 spend: 5420206\n",
      "clicks: 160 impressions: 98399 spend: 5466481\n",
      "clicks: 160 impressions: 98963 spend: 5505494\n",
      "clicks: 160 impressions: 99471 spend: 5547129\n",
      "clicks: 160 impressions: 100105 spend: 5593923\n",
      "clicks: 160 impressions: 100730 spend: 5640474\n",
      "clicks: 160 impressions: 101310 spend: 5688787\n",
      "clicks: 160 impressions: 101760 spend: 5723941\n",
      "clicks: 160 impressions: 102240 spend: 5760753\n",
      "clicks: 160 impressions: 102924 spend: 5808562\n",
      "clicks: 160 impressions: 103340 spend: 5843785\n",
      "clicks: 160 impressions: 104010 spend: 5896021\n",
      "clicks: 161 impressions: 104487 spend: 5933053\n",
      "clicks: 161 impressions: 104906 spend: 5969177\n",
      "clicks: 161 impressions: 105370 spend: 6007619\n",
      "clicks: 161 impressions: 105909 spend: 6048537\n",
      "clicks: 161 impressions: 106300 spend: 6077835\n",
      "clicks: 161 impressions: 106724 spend: 6115784\n",
      "clicks: 161 impressions: 107417 spend: 6169035\n",
      "clicks: 161 impressions: 107978 spend: 6213287\n",
      "clicks: 161 impressions: 108449 spend: 6249917\n",
      "clicks: 160 impressions: 108342 spend: 6249963\n",
      "clicks: 159 impressions: 108160 spend: 6249986\n",
      "clicks: 158 impressions: 107979 spend: 6249971\n",
      "clicks: 156 impressions: 107803 spend: 6249990\n",
      "clicks: 157 impressions: 107641 spend: 6249979\n",
      "clicks: 157 impressions: 107344 spend: 6249948\n",
      "clicks: 155 impressions: 107160 spend: 6249995\n",
      "clicks: 153 impressions: 106990 spend: 6249970\n",
      "clicks: 151 impressions: 106862 spend: 6249976\n",
      "clicks: 151 impressions: 106662 spend: 6249954\n",
      "clicks: 151 impressions: 106521 spend: 6249997\n",
      "clicks: 150 impressions: 106381 spend: 6249992\n",
      "clicks: 149 impressions: 106224 spend: 6249748\n",
      "clicks: 148 impressions: 106063 spend: 6249998\n",
      "clicks: 147 impressions: 105887 spend: 6249928\n",
      "clicks: 148 impressions: 105744 spend: 6249998\n",
      "clicks: 148 impressions: 105604 spend: 6249955\n",
      "clicks: 148 impressions: 105452 spend: 6249983\n",
      "clicks: 148 impressions: 105263 spend: 6249968\n",
      "clicks: 147 impressions: 105088 spend: 6249987\n",
      "clicks: 147 impressions: 104881 spend: 6249891\n",
      "clicks: 146 impressions: 104711 spend: 6249974\n",
      "clicks: 147 impressions: 104591 spend: 6249984\n",
      "clicks: 145 impressions: 104470 spend: 6249838\n",
      "clicks: 144 impressions: 104374 spend: 6249864\n",
      "clicks: 143 impressions: 104235 spend: 6249988\n",
      "clicks: 143 impressions: 104077 spend: 6249974\n",
      "clicks: 143 impressions: 104015 spend: 6249948\n",
      "best constant: 226\n"
     ]
    },
    {
     "data": {
      "image/png": "[encoded data removed]",
      "text/plain": [
       "<matplotlib.figure.Figure at 0x1a50a66eb8>"
      ]
     },
     "metadata": {},
     "output_type": "display_data"
    }
   ],
   "source": [
    "# search the best base_price\n",
    "base_prices = np.arange(200,300,2)\n",
    "clicks = []\n",
    "budget = 6250000\n",
    "avgCTR=0.738\n",
    "\n",
    "for base in base_prices:\n",
    "    \n",
    "    valid_pctr = valid_ctr_prediction\n",
    "    bid_price = [ int(base*(pCTR/avgCTR)**2) for pCTR in valid_pctr ]\n",
    "    c = EvaluateClick( bid_price, budget, valid_payprice, valid_click);\n",
    "    clicks.append(c)\n",
    "\n",
    "    \n",
    "plt.figure()\n",
    "plt.plot(base_prices, clicks)\n",
    "print('best constant:', base_prices[clicks.index(max(clicks))])"
   ]
  },
  {
   "cell_type": "code",
   "execution_count": 96,
   "metadata": {},
   "outputs": [
    {
     "name": "stdout",
     "output_type": "stream",
     "text": [
      "clicks: 161 impressions: 104487 spend: 5933053\n"
     ]
    },
    {
     "data": {
      "text/plain": [
       "161"
      ]
     },
     "execution_count": 96,
     "metadata": {},
     "output_type": "execute_result"
    }
   ],
   "source": [
    "base = base_prices[clicks.index(max(clicks))]\n",
    "\n",
    "bid_price = [ int(base*(pCTR/avgCTR)**2) for pCTR in valid_pctr ]\n",
    "EvaluateClick( bid_price, budget , valid_payprice, valid_click)"
   ]
  },
  {
   "cell_type": "code",
   "execution_count": 97,
   "metadata": {
    "collapsed": true
   },
   "outputs": [],
   "source": [
    "### prediction\n",
    "base = base_prices[clicks.index(max(clicks))]\n",
    "\n",
    "test_prediction = model.predict_proba(grd_enc.transform(grd.apply(test)[:, :, 0]))[:, 1]  \n",
    "bid_price = [ int(base*(pCTR/avgCTR)**2) for pCTR in test_prediction ]\n",
    "\n",
    "submission = pd.read_csv('Group_xx.csv')\n",
    "submission['bidprice'] = bid_price\n",
    "submission.to_csv('GBDT+LR_with_Squared.csv')"
   ]
  },
  {
   "cell_type": "code",
   "execution_count": null,
   "metadata": {
    "collapsed": true
   },
   "outputs": [],
   "source": []
  }
 ],
 "metadata": {
  "kernelspec": {
   "display_name": "Python 3",
   "language": "python",
   "name": "python3"
  },
  "language_info": {
   "codemirror_mode": {
    "name": "ipython",
    "version": 3
   },
   "file_extension": ".py",
   "mimetype": "text/x-python",
   "name": "python",
   "nbconvert_exporter": "python",
   "pygments_lexer": "ipython3",
   "version": "3.6.2"
  }
 },
 "nbformat": 4,
 "nbformat_minor": 2
}
